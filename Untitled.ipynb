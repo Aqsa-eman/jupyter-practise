{
 "cells": [
  {
   "cell_type": "markdown",
   "id": "480b9cc7",
   "metadata": {},
   "source": [
    "# looping structure"
   ]
  },
  {
   "cell_type": "code",
   "execution_count": 1,
   "id": "316d00f1",
   "metadata": {},
   "outputs": [
    {
     "name": "stdout",
     "output_type": "stream",
     "text": [
      "i: 1\n",
      "i: 2\n",
      "i: 3\n",
      "i: 4\n",
      "done\n"
     ]
    }
   ],
   "source": [
    "# while loop \n",
    "i = 1\n",
    "while (i < 5):\n",
    "    print ('i:',i)\n",
    "    i = i+1 \n",
    "print (\"done\")"
   ]
  },
  {
   "cell_type": "code",
   "execution_count": null,
   "id": "2dde0c05",
   "metadata": {},
   "outputs": [],
   "source": [
    "age = int(input('please enter your age'))\n",
    "while (age < 0):\n",
    "    age = int(input('please enter your age'))\n",
    "print('your age is:' ,age)    \n",
    "    "
   ]
  },
  {
   "cell_type": "markdown",
   "id": "5ecde49e",
   "metadata": {},
   "source": [
    "perc = float(input('please enter your percentage'))\n",
    "while (perc < 0):\n",
    "    perc = float(input('please enter your percentage'))\n",
    "else:\n",
    "    if(perc > 80):\n",
    "        print('A')\n",
    "    elif(perc > 70):\n",
    "        print('B')\n",
    "    elif(perc > 60):\n",
    "        print('C')\n",
    "    elif(perc > 50):\n",
    "        print('D')\n",
    "    elif(perc > 40):\n",
    "        print('F')  \n",
    "    else:\n",
    "        print('percentage must be greater than 40 to achieve any grade')"
   ]
  },
  {
   "cell_type": "markdown",
   "id": "f17d0053",
   "metadata": {},
   "source": []
  },
  {
   "cell_type": "code",
   "execution_count": null,
   "id": "7943bc6f",
   "metadata": {},
   "outputs": [],
   "source": [
    "for i in range(10):\n",
    "    print(\"i:\" ,1)\n",
    "print(\"done\")"
   ]
  },
  {
   "cell_type": "code",
   "execution_count": null,
   "id": "274019cb",
   "metadata": {},
   "outputs": [],
   "source": [
    "name = |\"hamza\"\n",
    "for i in name:\n",
    "    print(\"hello\")\n",
    "    print('i:' ,i)"
   ]
  },
  {
   "cell_type": "code",
   "execution_count": null,
   "id": "c557568c",
   "metadata": {},
   "outputs": [],
   "source": []
  }
 ],
 "metadata": {
  "kernelspec": {
   "display_name": "Python 3 (ipykernel)",
   "language": "python",
   "name": "python3"
  },
  "language_info": {
   "codemirror_mode": {
    "name": "ipython",
    "version": 3
   },
   "file_extension": ".py",
   "mimetype": "text/x-python",
   "name": "python",
   "nbconvert_exporter": "python",
   "pygments_lexer": "ipython3",
   "version": "3.11.3"
  }
 },
 "nbformat": 4,
 "nbformat_minor": 5
}
