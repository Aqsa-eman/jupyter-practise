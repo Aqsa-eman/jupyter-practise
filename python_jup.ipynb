{
 "cells": [
  {
   "cell_type": "code",
   "execution_count": 1,
   "id": "1884089a",
   "metadata": {},
   "outputs": [
    {
     "name": "stdout",
     "output_type": "stream",
     "text": [
      "hello im aqsa\n"
     ]
    }
   ],
   "source": [
    "print('hello im aqsa')"
   ]
  },
  {
   "cell_type": "code",
   "execution_count": null,
   "id": "026094a9",
   "metadata": {},
   "outputs": [],
   "source": [
    "a = 5\n",
    "b = 6\n",
    "c = 8\n"
   ]
  },
  {
   "cell_type": "markdown",
   "id": "b928a1d1",
   "metadata": {},
   "source": [
    "# heading python"
   ]
  },
  {
   "cell_type": "code",
   "execution_count": null,
   "id": "d46800c1",
   "metadata": {},
   "outputs": [],
   "source": []
  },
  {
   "cell_type": "code",
   "execution_count": null,
   "id": "3a7e1a0c",
   "metadata": {},
   "outputs": [],
   "source": []
  }
 ],
 "metadata": {
  "kernelspec": {
   "display_name": "Python 3 (ipykernel)",
   "language": "python",
   "name": "python3"
  },
  "language_info": {
   "codemirror_mode": {
    "name": "ipython",
    "version": 3
   },
   "file_extension": ".py",
   "mimetype": "text/x-python",
   "name": "python",
   "nbconvert_exporter": "python",
   "pygments_lexer": "ipython3",
   "version": "3.11.3"
  }
 },
 "nbformat": 4,
 "nbformat_minor": 5
}
