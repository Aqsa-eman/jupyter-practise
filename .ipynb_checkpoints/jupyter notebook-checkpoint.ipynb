{
 "cells": [
  {
   "cell_type": "code",
   "execution_count": 1,
   "id": "fbeb9f83",
   "metadata": {},
   "outputs": [
    {
     "name": "stdout",
     "output_type": "stream",
     "text": [
      "hello im aqsa\n"
     ]
    }
   ],
   "source": [
    "print('hello im aqsa')"
   ]
  },
  {
   "cell_type": "code",
   "execution_count": null,
   "id": "8015b565",
   "metadata": {},
   "outputs": [],
   "source": [
    "a = 5\n",
    "b = 6\n",
    "c = 8\n"
   ]
  },
  {
   "cell_type": "markdown",
   "id": "c9301c46",
   "metadata": {},
   "source": [
    "# heading python"
   ]
  },
  {
   "cell_type": "markdown",
   "id": "a87f0fd9",
   "metadata": {},
   "source": [
    "## headinig 2"
   ]
  },
  {
   "cell_type": "code",
   "execution_count": null,
   "id": "f75561cf",
   "metadata": {},
   "outputs": [],
   "source": []
  }
 ],
 "metadata": {
  "kernelspec": {
   "display_name": "Python 3 (ipykernel)",
   "language": "python",
   "name": "python3"
  },
  "language_info": {
   "codemirror_mode": {
    "name": "ipython",
    "version": 3
   },
   "file_extension": ".py",
   "mimetype": "text/x-python",
   "name": "python",
   "nbconvert_exporter": "python",
   "pygments_lexer": "ipython3",
   "version": "3.11.3"
  }
 },
 "nbformat": 4,
 "nbformat_minor": 5
}
