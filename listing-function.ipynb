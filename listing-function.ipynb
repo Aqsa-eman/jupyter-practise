{
 "cells": [
  {
   "cell_type": "code",
   "execution_count": 6,
   "id": "f481faf0",
   "metadata": {},
   "outputs": [],
   "source": [
    "veg = ['gobi','matar','kaddu','allu']\n"
   ]
  },
  {
   "cell_type": "code",
   "execution_count": 7,
   "id": "663d95dc",
   "metadata": {},
   "outputs": [
    {
     "data": {
      "text/plain": [
       "list"
      ]
     },
     "execution_count": 7,
     "metadata": {},
     "output_type": "execute_result"
    }
   ],
   "source": [
    "type(veg)"
   ]
  },
  {
   "cell_type": "code",
   "execution_count": 8,
   "id": "fdc39bea",
   "metadata": {},
   "outputs": [
    {
     "data": {
      "text/plain": [
       "['gobi', 'matar', 'kaddu', 'allu']"
      ]
     },
     "execution_count": 8,
     "metadata": {},
     "output_type": "execute_result"
    }
   ],
   "source": [
    "veg"
   ]
  },
  {
   "cell_type": "code",
   "execution_count": 9,
   "id": "a87064a7",
   "metadata": {},
   "outputs": [
    {
     "data": {
      "text/plain": [
       "'gobi'"
      ]
     },
     "execution_count": 9,
     "metadata": {},
     "output_type": "execute_result"
    }
   ],
   "source": [
    "veg[0]   #indexing"
   ]
  },
  {
   "cell_type": "code",
   "execution_count": 10,
   "id": "0dd40a7a",
   "metadata": {},
   "outputs": [
    {
     "data": {
      "text/plain": [
       "'kaddu'"
      ]
     },
     "execution_count": 10,
     "metadata": {},
     "output_type": "execute_result"
    }
   ],
   "source": [
    "veg[2]"
   ]
  },
  {
   "cell_type": "code",
   "execution_count": 11,
   "id": "63f45542",
   "metadata": {},
   "outputs": [
    {
     "ename": "IndexError",
     "evalue": "list index out of range",
     "output_type": "error",
     "traceback": [
      "\u001b[1;31m---------------------------------------------------------------------------\u001b[0m",
      "\u001b[1;31mIndexError\u001b[0m                                Traceback (most recent call last)",
      "Cell \u001b[1;32mIn[11], line 1\u001b[0m\n\u001b[1;32m----> 1\u001b[0m veg[\u001b[38;5;241m4\u001b[39m]\n",
      "\u001b[1;31mIndexError\u001b[0m: list index out of range"
     ]
    }
   ],
   "source": [
    "veg[4]"
   ]
  },
  {
   "cell_type": "code",
   "execution_count": 13,
   "id": "53a0c4f0",
   "metadata": {},
   "outputs": [],
   "source": [
    "veg.append('teendy')  #append function insert new element in list at last"
   ]
  },
  {
   "cell_type": "code",
   "execution_count": 14,
   "id": "3e180902",
   "metadata": {},
   "outputs": [
    {
     "data": {
      "text/plain": [
       "['gobi', 'matar', 'kaddu', 'allu', 'teendy']"
      ]
     },
     "execution_count": 14,
     "metadata": {},
     "output_type": "execute_result"
    }
   ],
   "source": [
    "veg"
   ]
  },
  {
   "cell_type": "code",
   "execution_count": 15,
   "id": "196a338d",
   "metadata": {},
   "outputs": [],
   "source": [
    "veg.insert(0,'band ghobi')"
   ]
  },
  {
   "cell_type": "code",
   "execution_count": 16,
   "id": "9c040b4b",
   "metadata": {},
   "outputs": [
    {
     "data": {
      "text/plain": [
       "['band ghobi', 'gobi', 'matar', 'kaddu', 'allu', 'teendy']"
      ]
     },
     "execution_count": 16,
     "metadata": {},
     "output_type": "execute_result"
    }
   ],
   "source": [
    "veg"
   ]
  },
  {
   "cell_type": "code",
   "execution_count": 18,
   "id": "187ea46a",
   "metadata": {},
   "outputs": [
    {
     "name": "stdout",
     "output_type": "stream",
     "text": [
      "vegetables name: band ghobi\n",
      "vegetables name: gobi\n",
      "vegetables name: matar\n",
      "vegetables name: kaddu\n",
      "vegetables name: allu\n",
      "vegetables name: teendy\n"
     ]
    }
   ],
   "source": [
    "for v in veg:\n",
    "    print('vegetables name:' ,v)"
   ]
  },
  {
   "cell_type": "code",
   "execution_count": 27,
   "id": "15efbf0d",
   "metadata": {},
   "outputs": [
    {
     "name": "stdout",
     "output_type": "stream",
     "text": [
      "plz enter desire veg name:bangan\n"
     ]
    },
    {
     "data": {
      "text/plain": [
       "['band ghobi', 'gobi', 'matar', 'kaddu', 'allu', 'teendy', 'bangan']"
      ]
     },
     "execution_count": 27,
     "metadata": {},
     "output_type": "execute_result"
    }
   ],
   "source": [
    "des_veg=input('plz enter desire veg name:')\n",
    "veg.append(des_veg)\n",
    "veg"
   ]
  },
  {
   "cell_type": "code",
   "execution_count": null,
   "id": "a913fe55",
   "metadata": {},
   "outputs": [],
   "source": []
  },
  {
   "cell_type": "code",
   "execution_count": null,
   "id": "acec46ec",
   "metadata": {},
   "outputs": [],
   "source": []
  }
 ],
 "metadata": {
  "kernelspec": {
   "display_name": "Python 3 (ipykernel)",
   "language": "python",
   "name": "python3"
  },
  "language_info": {
   "codemirror_mode": {
    "name": "ipython",
    "version": 3
   },
   "file_extension": ".py",
   "mimetype": "text/x-python",
   "name": "python",
   "nbconvert_exporter": "python",
   "pygments_lexer": "ipython3",
   "version": "3.11.3"
  }
 },
 "nbformat": 4,
 "nbformat_minor": 5
}
