{
 "cells": [
  {
   "cell_type": "code",
   "execution_count": 6,
   "id": "76d532d1",
   "metadata": {},
   "outputs": [],
   "source": [
    "veg = ['gobi','matar','kaddu','allu']\n"
   ]
  },
  {
   "cell_type": "code",
   "execution_count": 7,
   "id": "2276270b",
   "metadata": {},
   "outputs": [
    {
     "data": {
      "text/plain": [
       "list"
      ]
     },
     "execution_count": 7,
     "metadata": {},
     "output_type": "execute_result"
    }
   ],
   "source": [
    "type(veg)"
   ]
  },
  {
   "cell_type": "code",
   "execution_count": 8,
   "id": "52811bd2",
   "metadata": {},
   "outputs": [
    {
     "data": {
      "text/plain": [
       "['gobi', 'matar', 'kaddu', 'allu']"
      ]
     },
     "execution_count": 8,
     "metadata": {},
     "output_type": "execute_result"
    }
   ],
   "source": [
    "veg"
   ]
  },
  {
   "cell_type": "code",
   "execution_count": 9,
   "id": "87691236",
   "metadata": {},
   "outputs": [
    {
     "data": {
      "text/plain": [
       "'gobi'"
      ]
     },
     "execution_count": 9,
     "metadata": {},
     "output_type": "execute_result"
    }
   ],
   "source": [
    "veg[0]   #indexing"
   ]
  },
  {
   "cell_type": "code",
   "execution_count": 10,
   "id": "36834c90",
   "metadata": {},
   "outputs": [
    {
     "data": {
      "text/plain": [
       "'kaddu'"
      ]
     },
     "execution_count": 10,
     "metadata": {},
     "output_type": "execute_result"
    }
   ],
   "source": [
    "veg[2]"
   ]
  },
  {
   "cell_type": "code",
   "execution_count": 11,
   "id": "54951ac4",
   "metadata": {},
   "outputs": [
    {
     "ename": "IndexError",
     "evalue": "list index out of range",
     "output_type": "error",
     "traceback": [
      "\u001b[1;31m---------------------------------------------------------------------------\u001b[0m",
      "\u001b[1;31mIndexError\u001b[0m                                Traceback (most recent call last)",
      "Cell \u001b[1;32mIn[11], line 1\u001b[0m\n\u001b[1;32m----> 1\u001b[0m veg[\u001b[38;5;241m4\u001b[39m]\n",
      "\u001b[1;31mIndexError\u001b[0m: list index out of range"
     ]
    }
   ],
   "source": [
    "veg[4]"
   ]
  },
  {
   "cell_type": "code",
   "execution_count": 13,
   "id": "33c4aaa2",
   "metadata": {},
   "outputs": [],
   "source": [
    "veg.append('teendy')  #append function insert new element in list at last"
   ]
  },
  {
   "cell_type": "code",
   "execution_count": 14,
   "id": "728d2b01",
   "metadata": {},
   "outputs": [
    {
     "data": {
      "text/plain": [
       "['gobi', 'matar', 'kaddu', 'allu', 'teendy']"
      ]
     },
     "execution_count": 14,
     "metadata": {},
     "output_type": "execute_result"
    }
   ],
   "source": [
    "veg"
   ]
  },
  {
   "cell_type": "code",
   "execution_count": 15,
   "id": "bec05ee4",
   "metadata": {},
   "outputs": [],
   "source": [
    "veg.insert(0,'band ghobi')"
   ]
  },
  {
   "cell_type": "code",
   "execution_count": 16,
   "id": "74ab21d7",
   "metadata": {},
   "outputs": [
    {
     "data": {
      "text/plain": [
       "['band ghobi', 'gobi', 'matar', 'kaddu', 'allu', 'teendy']"
      ]
     },
     "execution_count": 16,
     "metadata": {},
     "output_type": "execute_result"
    }
   ],
   "source": [
    "veg"
   ]
  },
  {
   "cell_type": "code",
   "execution_count": 18,
   "id": "2da7d29e",
   "metadata": {},
   "outputs": [
    {
     "name": "stdout",
     "output_type": "stream",
     "text": [
      "vegetables name: band ghobi\n",
      "vegetables name: gobi\n",
      "vegetables name: matar\n",
      "vegetables name: kaddu\n",
      "vegetables name: allu\n",
      "vegetables name: teendy\n"
     ]
    }
   ],
   "source": [
    "for v in veg:\n",
    "    print('vegetables name:' ,v)"
   ]
  },
  {
   "cell_type": "code",
   "execution_count": 25,
   "id": "2f51a0a0",
   "metadata": {},
   "outputs": [
    {
     "ename": "SyntaxError",
     "evalue": "cannot assign to expression here. Maybe you meant '==' instead of '='? (2466633686.py, line 1)",
     "output_type": "error",
     "traceback": [
      "\u001b[1;36m  Cell \u001b[1;32mIn[25], line 1\u001b[1;36m\u001b[0m\n\u001b[1;33m    des-veg=input('plz enter desire veg name:')\u001b[0m\n\u001b[1;37m    ^\u001b[0m\n\u001b[1;31mSyntaxError\u001b[0m\u001b[1;31m:\u001b[0m cannot assign to expression here. Maybe you meant '==' instead of '='?\n"
     ]
    }
   ],
   "source": [
    "des-veg=input('plz enter desire veg name:')\n",
    "veg.append(des_veg)\n",
    "veg"
   ]
  },
  {
   "cell_type": "code",
   "execution_count": null,
   "id": "8c3e62da",
   "metadata": {},
   "outputs": [],
   "source": []
  },
  {
   "cell_type": "code",
   "execution_count": null,
   "id": "950e4969",
   "metadata": {},
   "outputs": [],
   "source": []
  }
 ],
 "metadata": {
  "kernelspec": {
   "display_name": "Python 3 (ipykernel)",
   "language": "python",
   "name": "python3"
  },
  "language_info": {
   "codemirror_mode": {
    "name": "ipython",
    "version": 3
   },
   "file_extension": ".py",
   "mimetype": "text/x-python",
   "name": "python",
   "nbconvert_exporter": "python",
   "pygments_lexer": "ipython3",
   "version": "3.11.3"
  }
 },
 "nbformat": 4,
 "nbformat_minor": 5
}
